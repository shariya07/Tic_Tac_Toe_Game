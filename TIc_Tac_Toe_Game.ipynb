{
  "nbformat": 4,
  "nbformat_minor": 0,
  "metadata": {
    "colab": {
      "provenance": [],
      "authorship_tag": "ABX9TyNVw5s74JLQT0kyoANFSGB6",
      "include_colab_link": true
    },
    "kernelspec": {
      "name": "python3",
      "display_name": "Python 3"
    },
    "language_info": {
      "name": "python"
    }
  },
  "cells": [
    {
      "cell_type": "markdown",
      "metadata": {
        "id": "view-in-github",
        "colab_type": "text"
      },
      "source": [
        "<a href=\"https://colab.research.google.com/github/shariya07/Tic_Tac_Toe_Game/blob/main/TIc_Tac_Toe_Game.ipynb\" target=\"_parent\"><img src=\"https://colab.research.google.com/assets/colab-badge.svg\" alt=\"Open In Colab\"/></a>"
      ]
    },
    {
      "cell_type": "markdown",
      "source": [
        "**Function to Display the board**"
      ],
      "metadata": {
        "id": "xI2ROuAMnUZT"
      }
    },
    {
      "cell_type": "code",
      "execution_count": 1,
      "metadata": {
        "id": "0_KGVDApl47n"
      },
      "outputs": [],
      "source": [
        "from IPython.display import clear_output\n",
        "\n",
        "def display_board(board):\n",
        "\n",
        "    print(board[7]+'|'+board[8]+'|'+board[9])\n",
        "    print(board[4]+'|'+board[5]+'|'+board[6])\n",
        "    print(board[1]+'|'+board[2]+'|'+board[3])"
      ]
    },
    {
      "cell_type": "code",
      "source": [
        "test_board = ['#','X','O','X','O','X','O','X','O','X']\n",
        "display_board(test_board)"
      ],
      "metadata": {
        "colab": {
          "base_uri": "https://localhost:8080/"
        },
        "id": "RlrUylmAnI5g",
        "outputId": "ccc1236d-2001-4c29-ee75-ab97caaa0911"
      },
      "execution_count": null,
      "outputs": [
        {
          "output_type": "stream",
          "name": "stdout",
          "text": [
            "X|O|X\n",
            "O|X|O\n",
            "X|O|X\n"
          ]
        }
      ]
    },
    {
      "cell_type": "markdown",
      "source": [
        "**Function to take player input**"
      ],
      "metadata": {
        "id": "59R2n_HMnhAY"
      }
    },
    {
      "cell_type": "code",
      "source": [
        "def player_input():\n",
        "    marker = ''\n",
        "\n",
        "    while not (marker == 'X' or marker == 'O'):\n",
        "        marker = input('Player 1: Do you want to be X or O? ').upper()\n",
        "\n",
        "    if marker == 'X':\n",
        "        return ('X', 'O')\n",
        "    else:\n",
        "        return ('O', 'X')\n",
        "\n",
        "\n"
      ],
      "metadata": {
        "id": "TSPfJtz0nvQS"
      },
      "execution_count": 2,
      "outputs": []
    },
    {
      "cell_type": "code",
      "source": [
        "player_input()"
      ],
      "metadata": {
        "colab": {
          "base_uri": "https://localhost:8080/",
          "height": 52
        },
        "id": "3hs4YS8HoKXu",
        "outputId": "75533cd9-65bb-4021-f4b8-96fc2c4a9a1a"
      },
      "execution_count": null,
      "outputs": [
        {
          "name": "stdout",
          "output_type": "stream",
          "text": [
            "Chosse your string(X or O)X\n"
          ]
        },
        {
          "output_type": "execute_result",
          "data": {
            "text/plain": [
              "'X'"
            ],
            "application/vnd.google.colaboratory.intrinsic+json": {
              "type": "string"
            }
          },
          "metadata": {},
          "execution_count": 5
        }
      ]
    },
    {
      "cell_type": "code",
      "source": [
        "def place_marker(board, marker, position):\n",
        "\n",
        "  board[position]=marker\n",
        "  return board\n"
      ],
      "metadata": {
        "id": "AxnSRxYSokeJ"
      },
      "execution_count": 3,
      "outputs": []
    },
    {
      "cell_type": "code",
      "source": [
        "def win_check(board,mark):\n",
        "\n",
        "    return ((board[7] == mark and board[8] == mark and board[9] == mark) or # across the top\n",
        "    (board[4] == mark and board[5] == mark and board[6] == mark) or # across the middle\n",
        "    (board[1] == mark and board[2] == mark and board[3] == mark) or # across the bottom\n",
        "    (board[7] == mark and board[4] == mark and board[1] == mark) or # down the middle\n",
        "    (board[8] == mark and board[5] == mark and board[2] == mark) or # down the middle\n",
        "    (board[9] == mark and board[6] == mark and board[3] == mark) or # down the right side\n",
        "    (board[7] == mark and board[5] == mark and board[3] == mark) or # diagonal\n",
        "    (board[9] == mark and board[5] == mark and board[1] == mark)) # diagonal"
      ],
      "metadata": {
        "id": "9nRMVFV9pUdb"
      },
      "execution_count": 5,
      "outputs": []
    },
    {
      "cell_type": "code",
      "source": [
        "win_check(test_board,'X')"
      ],
      "metadata": {
        "colab": {
          "base_uri": "https://localhost:8080/"
        },
        "id": "kPPHZ-3YrohW",
        "outputId": "ed60d71a-c995-439a-826d-0d3b52fadae6"
      },
      "execution_count": null,
      "outputs": [
        {
          "output_type": "execute_result",
          "data": {
            "text/plain": [
              "True"
            ]
          },
          "metadata": {},
          "execution_count": 9
        }
      ]
    },
    {
      "cell_type": "code",
      "source": [
        "import random\n",
        "\n",
        "def choose_first():\n",
        "    if random.randint(0, 1) == 0:\n",
        "        return 'Player 2'\n",
        "    else:\n",
        "        return 'Player 1'"
      ],
      "metadata": {
        "id": "Nu3ECjlCr2ri"
      },
      "execution_count": 6,
      "outputs": []
    },
    {
      "cell_type": "code",
      "source": [
        "def space_check(board, position):\n",
        "    if board[position] ==' ':\n",
        "      return True\n",
        "    else:\n",
        "      return False"
      ],
      "metadata": {
        "id": "uh6INbYQsr6a"
      },
      "execution_count": 7,
      "outputs": []
    },
    {
      "cell_type": "code",
      "source": [
        "def full_board_check(board):\n",
        "\n",
        "    for i in range(1,10):\n",
        "      if space_check(board,i):\n",
        "        return False\n",
        "    return True"
      ],
      "metadata": {
        "id": "RPAM-HVwufl3"
      },
      "execution_count": 8,
      "outputs": []
    },
    {
      "cell_type": "code",
      "source": [
        "def player_choice(board):\n",
        "\n",
        "    position=0\n",
        "    while position not in [1,2,3,4,5,6,7,8,9] or not space_check(board, position):\n",
        "        position = int(input('Choose your next position: (1-9) '))\n",
        "\n",
        "    return position"
      ],
      "metadata": {
        "id": "B7oDCjb7vtQ3"
      },
      "execution_count": 16,
      "outputs": []
    },
    {
      "cell_type": "code",
      "source": [
        "def replay():\n",
        "\n",
        "    a=input('Do you want to play again(Y or N)')\n",
        "    if a=='Y':\n",
        "      return True\n",
        "    else :\n",
        "      return False\n"
      ],
      "metadata": {
        "id": "Ug6W_GLS301V"
      },
      "execution_count": 11,
      "outputs": []
    },
    {
      "cell_type": "code",
      "source": [
        "print('Welcome to Tic Tac Toe!')\n",
        "theBoard=[' '] * 10\n",
        "player1_marker,player2_marker = player_input()\n",
        "turn=choose_first()\n",
        "print(turn + 'will go first')\n",
        "\n",
        "play_game = input('Are you ready to play? Enter Yes or No.')\n",
        "if play_game.lower()[0] == 'y':\n",
        "  game_on = True\n",
        "else:\n",
        "  game_on = False\n",
        "\n",
        "while game_on:\n",
        "  if turn == 'Player 1':\n",
        "    display_board(theBoard)\n",
        "    position = player_choice(theBoard)\n",
        "    place_marker(theBoard, player1_marker, position)\n",
        "\n",
        "    if win_check(theBoard, player1_marker):\n",
        "      display_board(theBoard)\n",
        "      print('Congratulations! You have won the game!')\n",
        "      game_on = False\n",
        "    else:\n",
        "      if full_board_check(theBoard):\n",
        "        display_board(theBoard)\n",
        "        print('The game is a draw!')\n",
        "        break\n",
        "      else:\n",
        "        turn = 'Player 2'\n",
        "  else:\n",
        "    display_board(theBoard)\n",
        "    position = player_choice(theBoard)\n",
        "    place_marker(theBoard, player2_marker, position)\n",
        "    if win_check(theBoard, player2_marker):\n",
        "      display_board(theBoard)\n",
        "      print('Player 2 has won!')\n",
        "      game_on = False\n",
        "    else:\n",
        "      if full_board_check(theBoard):\n",
        "        display_board(theBoard)\n",
        "        print('The game is a draw!')\n",
        "        break\n",
        "      else:\n",
        "        turn = 'Player 1'\n",
        "  if not replay():\n",
        "    break\n",
        "\n"
      ],
      "metadata": {
        "id": "alPVL-5T4Qoj",
        "colab": {
          "base_uri": "https://localhost:8080/"
        },
        "outputId": "364e323e-355a-4890-bd36-0b1f63daea3c"
      },
      "execution_count": 17,
      "outputs": [
        {
          "name": "stdout",
          "output_type": "stream",
          "text": [
            "Welcome to Tic Tac Toe!\n",
            "Player 1: Do you want to be X or O? X\n",
            "Player 2will go first\n",
            "Are you ready to play? Enter Yes or No.yes\n",
            " | | \n",
            " | | \n",
            " | | \n",
            "Choose your next position: (1-9) 2\n",
            "Do you want to play again(Y or N)Y\n",
            " | | \n",
            " | | \n",
            " |O| \n",
            "Choose your next position: (1-9) 3\n",
            "Do you want to play again(Y or N)Y\n",
            " | | \n",
            " | | \n",
            " |O|X\n",
            "Choose your next position: (1-9) 5\n",
            "Do you want to play again(Y or N)Y\n",
            " | | \n",
            " |O| \n",
            " |O|X\n",
            "Choose your next position: (1-9) 3\n",
            "Choose your next position: (1-9) 6\n",
            "Do you want to play again(Y or N)Y\n",
            " | | \n",
            " |O|X\n",
            " |O|X\n",
            "Choose your next position: (1-9) 8\n",
            " |O| \n",
            " |O|X\n",
            " |O|X\n",
            "Player 2 has won!\n",
            "Do you want to play again(Y or N)N\n"
          ]
        }
      ]
    }
  ]
}